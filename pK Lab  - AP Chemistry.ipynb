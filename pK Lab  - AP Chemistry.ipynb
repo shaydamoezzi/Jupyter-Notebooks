{
 "cells": [
  {
   "cell_type": "markdown",
   "metadata": {},
   "source": [
    "### Goal: To determine the equilibrium constant of an uknown acid."
   ]
  },
  {
   "cell_type": "code",
   "execution_count": 68,
   "metadata": {},
   "outputs": [],
   "source": [
    "import numpy as np\n",
    "import matplotlib as mlp\n",
    "import matplotlib.pyplot as plt\n",
    "import pandas as pd\n",
    "import csv"
   ]
  },
  {
   "cell_type": "code",
   "execution_count": 69,
   "metadata": {
    "scrolled": false
   },
   "outputs": [
    {
     "name": "stdout",
     "output_type": "stream",
     "text": [
      "    Buret Reading     pH\n",
      "0            0.00   3.06\n",
      "1            1.00   3.53\n",
      "2            2.00   3.81\n",
      "3            3.00   4.05\n",
      "4            3.50   4.20\n",
      "5            4.00   4.37\n",
      "6            4.51   4.65\n",
      "7            5.50   5.69\n",
      "8            6.30  10.34\n",
      "9            7.00  11.26\n",
      "10           8.00  11.64\n",
      "11           8.50  11.75\n",
      "12           9.00  11.85\n",
      "13          10.80  11.98\n",
      "14          11.00  12.04\n",
      "15          12.00  12.13\n",
      "16          13.00  12.17\n",
      "17          14.10  12.22\n",
      "18          15.00  12.27\n",
      "19          16.30  12.35\n",
      "Index(['Buret Reading', 'pH'], dtype='object')\n",
      "[[ 0.    3.06]\n",
      " [ 1.    3.53]\n",
      " [ 2.    3.81]\n",
      " [ 3.    4.05]\n",
      " [ 3.5   4.2 ]\n",
      " [ 4.    4.37]\n",
      " [ 4.51  4.65]\n",
      " [ 5.5   5.69]\n",
      " [ 6.3  10.34]\n",
      " [ 7.   11.26]\n",
      " [ 8.   11.64]\n",
      " [ 8.5  11.75]\n",
      " [ 9.   11.85]\n",
      " [10.8  11.98]\n",
      " [11.   12.04]\n",
      " [12.   12.13]\n",
      " [13.   12.17]\n",
      " [14.1  12.22]\n",
      " [15.   12.27]\n",
      " [16.3  12.35]]\n",
      "0      3.06\n",
      "1      3.53\n",
      "2      3.81\n",
      "3      4.05\n",
      "4      4.20\n",
      "5      4.37\n",
      "6      4.65\n",
      "7      5.69\n",
      "8     10.34\n",
      "9     11.26\n",
      "10    11.64\n",
      "11    11.75\n",
      "12    11.85\n",
      "13    11.98\n",
      "14    12.04\n",
      "15    12.13\n",
      "16    12.17\n",
      "17    12.22\n",
      "18    12.27\n",
      "19    12.35\n",
      "Name: pH, dtype: float64\n",
      "0      0.00\n",
      "1      1.00\n",
      "2      2.00\n",
      "3      3.00\n",
      "4      3.50\n",
      "5      4.00\n",
      "6      4.51\n",
      "7      5.50\n",
      "8      6.30\n",
      "9      7.00\n",
      "10     8.00\n",
      "11     8.50\n",
      "12     9.00\n",
      "13    10.80\n",
      "14    11.00\n",
      "15    12.00\n",
      "16    13.00\n",
      "17    14.10\n",
      "18    15.00\n",
      "19    16.30\n",
      "Name: Buret Reading, dtype: float64\n"
     ]
    }
   ],
   "source": [
    "phData = pd.read_csv('/Users/shaydamoezzi/Documents/ph-data.csv')\n",
    "print(phData)\n",
    "columns = phData.columns\n",
    "print(columns)\n",
    "values = phData.values\n",
    "print(values)\n",
    "pHValues = phData['pH']\n",
    "print(pHValues)\n",
    "mLBaseAdded = phData['Buret Reading']\n",
    "print(mLBaseAdded)    "
   ]
  },
  {
   "cell_type": "code",
   "execution_count": 67,
   "metadata": {},
   "outputs": [
    {
     "data": {
      "text/plain": [
       "Text(0, 0.5, 'pH')"
      ]
     },
     "execution_count": 67,
     "metadata": {},
     "output_type": "execute_result"
    },
    {
     "data": {
      "image/png": "[encoded data removed]",
      "text/plain": [
       "<Figure size 432x288 with 1 Axes>"
      ]
     },
     "metadata": {},
     "output_type": "display_data"
    }
   ],
   "source": [
    "plt.plot(mLBaseAdded, pHValues)\n",
    "plt.xlabel('Volume of NaOH added (mL)')\n",
    "plt.ylabel('pH')"
   ]
  },
  {
   "cell_type": "code",
   "execution_count": null,
   "metadata": {},
   "outputs": [],
   "source": []
  }
 ],
 "metadata": {
  "kernelspec": {
   "display_name": "Python 3",
   "language": "python",
   "name": "python3"
  },
  "language_info": {
   "codemirror_mode": {
    "name": "ipython",
    "version": 3
   },
   "file_extension": ".py",
   "mimetype": "text/x-python",
   "name": "python",
   "nbconvert_exporter": "python",
   "pygments_lexer": "ipython3",
   "version": "3.6.4"
  }
 },
 "nbformat": 4,
 "nbformat_minor": 2
}
